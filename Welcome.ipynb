{
  "nbformat": 4,
  "nbformat_minor": 0,
  "metadata": {
    "colab": {
      "provenance": [],
      "toc_visible": true,
      "authorship_tag": "ABX9TyMwLAkAgefmAsFhvc0V+1Bd",
      "include_colab_link": true
    },
    "kernelspec": {
      "name": "python3",
      "display_name": "Python 3"
    },
    "language_info": {
      "name": "python"
    }
  },
  "cells": [
    {
      "cell_type": "markdown",
      "metadata": {
        "id": "view-in-github",
        "colab_type": "text"
      },
      "source": [
        "<a href=\"https://colab.research.google.com/github/friendly036/lecture/blob/main/Welcome.ipynb\" target=\"_parent\"><img src=\"https://colab.research.google.com/assets/colab-badge.svg\" alt=\"Open In Colab\"/></a>"
      ]
    },
    {
      "cell_type": "markdown",
      "source": [],
      "metadata": {
        "id": "8dOb_iq4hIkj"
      }
    },
    {
      "cell_type": "markdown",
      "source": [
        "# \"커넥티드 플랫폼 이론과 실제\" 10주차 강의에 오신 것을 환영합니다!\n"
      ],
      "metadata": {
        "id": "cIZe-bBKhPOO"
      }
    }
  ]
}